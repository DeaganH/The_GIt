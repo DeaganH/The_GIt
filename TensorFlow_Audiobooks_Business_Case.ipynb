{
 "cells": [
  {
   "cell_type": "markdown",
   "metadata": {},
   "source": [
    "# Audiobooks business case"
   ]
  },
  {
   "cell_type": "markdown",
   "metadata": {},
   "source": [
    "To predict which customers are likely to convert again - return to purchase"
   ]
  },
  {
   "cell_type": "markdown",
   "metadata": {},
   "source": [
    "### Extract the data from the csv"
   ]
  },
  {
   "cell_type": "code",
   "execution_count": 1,
   "metadata": {},
   "outputs": [],
   "source": [
    "import numpy as np\n",
    "import pandas as pd\n",
    "import tensorflow as tf\n",
    "import sklearn\n",
    "from sklearn import preprocessing\n",
    "\n",
    "## using numpy array \n",
    "raw_csv_data = np.loadtxt('Audiobooks_data.csv',delimiter=',')\n",
    "## using pandas for visual purposes\n",
    "data = pd.read_csv('Audiobooks_data_with_headings.csv')"
   ]
  },
  {
   "cell_type": "code",
   "execution_count": 2,
   "metadata": {
    "scrolled": true
   },
   "outputs": [
    {
     "data": {
      "text/html": [
       "<div>\n",
       "<style scoped>\n",
       "    .dataframe tbody tr th:only-of-type {\n",
       "        vertical-align: middle;\n",
       "    }\n",
       "\n",
       "    .dataframe tbody tr th {\n",
       "        vertical-align: top;\n",
       "    }\n",
       "\n",
       "    .dataframe thead th {\n",
       "        text-align: right;\n",
       "    }\n",
       "</style>\n",
       "<table border=\"1\" class=\"dataframe\">\n",
       "  <thead>\n",
       "    <tr style=\"text-align: right;\">\n",
       "      <th></th>\n",
       "      <th>Book length (mins) avg</th>\n",
       "      <th>book length (mins) overall</th>\n",
       "      <th>price_avg</th>\n",
       "      <th>price_overall</th>\n",
       "      <th>review</th>\n",
       "      <th>review 10/10</th>\n",
       "      <th>completion</th>\n",
       "      <th>mins listened</th>\n",
       "      <th>support requests</th>\n",
       "      <th>last visited minus purchase date</th>\n",
       "    </tr>\n",
       "  </thead>\n",
       "  <tbody>\n",
       "    <tr>\n",
       "      <th>0</th>\n",
       "      <td>2160.0</td>\n",
       "      <td>2160</td>\n",
       "      <td>10.13</td>\n",
       "      <td>10.13</td>\n",
       "      <td>0</td>\n",
       "      <td>8.91</td>\n",
       "      <td>0.00</td>\n",
       "      <td>0.0</td>\n",
       "      <td>0</td>\n",
       "      <td>0</td>\n",
       "    </tr>\n",
       "    <tr>\n",
       "      <th>1</th>\n",
       "      <td>1404.0</td>\n",
       "      <td>2808</td>\n",
       "      <td>6.66</td>\n",
       "      <td>13.33</td>\n",
       "      <td>1</td>\n",
       "      <td>6.50</td>\n",
       "      <td>0.00</td>\n",
       "      <td>0.0</td>\n",
       "      <td>0</td>\n",
       "      <td>182</td>\n",
       "    </tr>\n",
       "    <tr>\n",
       "      <th>2</th>\n",
       "      <td>324.0</td>\n",
       "      <td>324</td>\n",
       "      <td>10.13</td>\n",
       "      <td>10.13</td>\n",
       "      <td>1</td>\n",
       "      <td>9.00</td>\n",
       "      <td>0.00</td>\n",
       "      <td>0.0</td>\n",
       "      <td>1</td>\n",
       "      <td>334</td>\n",
       "    </tr>\n",
       "    <tr>\n",
       "      <th>3</th>\n",
       "      <td>1620.0</td>\n",
       "      <td>1620</td>\n",
       "      <td>15.31</td>\n",
       "      <td>15.31</td>\n",
       "      <td>0</td>\n",
       "      <td>9.00</td>\n",
       "      <td>0.00</td>\n",
       "      <td>0.0</td>\n",
       "      <td>0</td>\n",
       "      <td>183</td>\n",
       "    </tr>\n",
       "    <tr>\n",
       "      <th>4</th>\n",
       "      <td>432.0</td>\n",
       "      <td>1296</td>\n",
       "      <td>7.11</td>\n",
       "      <td>21.33</td>\n",
       "      <td>1</td>\n",
       "      <td>9.00</td>\n",
       "      <td>0.00</td>\n",
       "      <td>0.0</td>\n",
       "      <td>0</td>\n",
       "      <td>0</td>\n",
       "    </tr>\n",
       "    <tr>\n",
       "      <th>...</th>\n",
       "      <td>...</td>\n",
       "      <td>...</td>\n",
       "      <td>...</td>\n",
       "      <td>...</td>\n",
       "      <td>...</td>\n",
       "      <td>...</td>\n",
       "      <td>...</td>\n",
       "      <td>...</td>\n",
       "      <td>...</td>\n",
       "      <td>...</td>\n",
       "    </tr>\n",
       "    <tr>\n",
       "      <th>14079</th>\n",
       "      <td>2160.0</td>\n",
       "      <td>2160</td>\n",
       "      <td>7.99</td>\n",
       "      <td>7.99</td>\n",
       "      <td>0</td>\n",
       "      <td>8.91</td>\n",
       "      <td>0.00</td>\n",
       "      <td>0.0</td>\n",
       "      <td>0</td>\n",
       "      <td>54</td>\n",
       "    </tr>\n",
       "    <tr>\n",
       "      <th>14080</th>\n",
       "      <td>1620.0</td>\n",
       "      <td>1620</td>\n",
       "      <td>5.33</td>\n",
       "      <td>5.33</td>\n",
       "      <td>1</td>\n",
       "      <td>9.00</td>\n",
       "      <td>0.61</td>\n",
       "      <td>0.0</td>\n",
       "      <td>0</td>\n",
       "      <td>4</td>\n",
       "    </tr>\n",
       "    <tr>\n",
       "      <th>14081</th>\n",
       "      <td>1080.0</td>\n",
       "      <td>1080</td>\n",
       "      <td>6.55</td>\n",
       "      <td>6.55</td>\n",
       "      <td>1</td>\n",
       "      <td>6.00</td>\n",
       "      <td>0.29</td>\n",
       "      <td>0.0</td>\n",
       "      <td>0</td>\n",
       "      <td>29</td>\n",
       "    </tr>\n",
       "    <tr>\n",
       "      <th>14082</th>\n",
       "      <td>2160.0</td>\n",
       "      <td>2160</td>\n",
       "      <td>6.14</td>\n",
       "      <td>6.14</td>\n",
       "      <td>0</td>\n",
       "      <td>8.91</td>\n",
       "      <td>0.00</td>\n",
       "      <td>0.0</td>\n",
       "      <td>0</td>\n",
       "      <td>0</td>\n",
       "    </tr>\n",
       "    <tr>\n",
       "      <th>14083</th>\n",
       "      <td>1620.0</td>\n",
       "      <td>1620</td>\n",
       "      <td>5.33</td>\n",
       "      <td>5.33</td>\n",
       "      <td>1</td>\n",
       "      <td>8.00</td>\n",
       "      <td>0.38</td>\n",
       "      <td>0.0</td>\n",
       "      <td>0</td>\n",
       "      <td>90</td>\n",
       "    </tr>\n",
       "  </tbody>\n",
       "</table>\n",
       "<p>14084 rows × 10 columns</p>\n",
       "</div>"
      ],
      "text/plain": [
       "       Book length (mins) avg  book length (mins) overall  price_avg  \\\n",
       "0                      2160.0                        2160      10.13   \n",
       "1                      1404.0                        2808       6.66   \n",
       "2                       324.0                         324      10.13   \n",
       "3                      1620.0                        1620      15.31   \n",
       "4                       432.0                        1296       7.11   \n",
       "...                       ...                         ...        ...   \n",
       "14079                  2160.0                        2160       7.99   \n",
       "14080                  1620.0                        1620       5.33   \n",
       "14081                  1080.0                        1080       6.55   \n",
       "14082                  2160.0                        2160       6.14   \n",
       "14083                  1620.0                        1620       5.33   \n",
       "\n",
       "       price_overall  review  review 10/10  completion  mins listened  \\\n",
       "0              10.13       0          8.91        0.00            0.0   \n",
       "1              13.33       1          6.50        0.00            0.0   \n",
       "2              10.13       1          9.00        0.00            0.0   \n",
       "3              15.31       0          9.00        0.00            0.0   \n",
       "4              21.33       1          9.00        0.00            0.0   \n",
       "...              ...     ...           ...         ...            ...   \n",
       "14079           7.99       0          8.91        0.00            0.0   \n",
       "14080           5.33       1          9.00        0.61            0.0   \n",
       "14081           6.55       1          6.00        0.29            0.0   \n",
       "14082           6.14       0          8.91        0.00            0.0   \n",
       "14083           5.33       1          8.00        0.38            0.0   \n",
       "\n",
       "       support requests  last visited minus purchase date  \n",
       "0                     0                                 0  \n",
       "1                     0                               182  \n",
       "2                     1                               334  \n",
       "3                     0                               183  \n",
       "4                     0                                 0  \n",
       "...                 ...                               ...  \n",
       "14079                 0                                54  \n",
       "14080                 0                                 4  \n",
       "14081                 0                                29  \n",
       "14082                 0                                 0  \n",
       "14083                 0                                90  \n",
       "\n",
       "[14084 rows x 10 columns]"
      ]
     },
     "execution_count": 2,
     "metadata": {},
     "output_type": "execute_result"
    }
   ],
   "source": [
    "unscaled_inputs_all = raw_csv_data[:,1:-1]\n",
    "\n",
    "data.iloc[:,1:-1]"
   ]
  },
  {
   "cell_type": "code",
   "execution_count": 3,
   "metadata": {
    "scrolled": true
   },
   "outputs": [
    {
     "data": {
      "text/plain": [
       "0        1\n",
       "1        1\n",
       "2        1\n",
       "3        1\n",
       "4        1\n",
       "        ..\n",
       "14079    0\n",
       "14080    0\n",
       "14081    0\n",
       "14082    0\n",
       "14083    0\n",
       "Name: targets, Length: 14084, dtype: int64"
      ]
     },
     "execution_count": 3,
     "metadata": {},
     "output_type": "execute_result"
    }
   ],
   "source": [
    "## separated target data from input data\n",
    "targets_all = raw_csv_data[:,-1]\n",
    "\n",
    "data.iloc[:,-1]"
   ]
  },
  {
   "cell_type": "code",
   "execution_count": 4,
   "metadata": {},
   "outputs": [
    {
     "data": {
      "text/plain": [
       "(14084,)"
      ]
     },
     "execution_count": 4,
     "metadata": {},
     "output_type": "execute_result"
    }
   ],
   "source": [
    "targets_all.shape"
   ]
  },
  {
   "cell_type": "markdown",
   "metadata": {},
   "source": [
    "### Balance the dataset"
   ]
  },
  {
   "cell_type": "code",
   "execution_count": 5,
   "metadata": {},
   "outputs": [],
   "source": [
    "# Count how many targets are 1 \n",
    "num_one_targets = int(np.sum(targets_all))\n",
    "\n",
    "# Set a counter for targets that are 0 (meaning that the customer did not convert)\n",
    "zero_targets_counter = 0\n",
    "\n",
    "indices_to_remove = []\n",
    "\n",
    "# count number of 0 targets and match to 1s if there are more append to indices_to_remove\n",
    "for i in range(targets_all.shape[0]):\n",
    "    if targets_all[i] == 0:\n",
    "        zero_targets_counter += 1\n",
    "        if zero_targets_counter > num_one_targets:\n",
    "            indices_to_remove.append(i)\n",
    "            \n",
    "# We delete all indices that we marked \"to remove\" in the loop above\n",
    "unscaled_inputs_equal_priors = np.delete(unscaled_inputs_all, indices_to_remove, axis=0)\n",
    "targets_equal_priors = np.delete(targets_all, indices_to_remove, axis=0)"
   ]
  },
  {
   "cell_type": "markdown",
   "metadata": {},
   "source": [
    "### Standardize the inputs"
   ]
  },
  {
   "cell_type": "code",
   "execution_count": 6,
   "metadata": {},
   "outputs": [],
   "source": [
    "scaled_inputs = preprocessing.scale(unscaled_inputs_equal_priors)"
   ]
  },
  {
   "cell_type": "code",
   "execution_count": 7,
   "metadata": {
    "scrolled": true
   },
   "outputs": [
    {
     "data": {
      "text/html": [
       "<div>\n",
       "<style scoped>\n",
       "    .dataframe tbody tr th:only-of-type {\n",
       "        vertical-align: middle;\n",
       "    }\n",
       "\n",
       "    .dataframe tbody tr th {\n",
       "        vertical-align: top;\n",
       "    }\n",
       "\n",
       "    .dataframe thead th {\n",
       "        text-align: right;\n",
       "    }\n",
       "</style>\n",
       "<table border=\"1\" class=\"dataframe\">\n",
       "  <thead>\n",
       "    <tr style=\"text-align: right;\">\n",
       "      <th></th>\n",
       "      <th>Book length (mins) avg</th>\n",
       "      <th>book length (mins) overall</th>\n",
       "      <th>price_avg</th>\n",
       "      <th>price_overall</th>\n",
       "      <th>review</th>\n",
       "      <th>review 10/10</th>\n",
       "      <th>completion</th>\n",
       "      <th>mins listened</th>\n",
       "      <th>support requests</th>\n",
       "      <th>last visited minus purchase date</th>\n",
       "    </tr>\n",
       "  </thead>\n",
       "  <tbody>\n",
       "  </tbody>\n",
       "</table>\n",
       "</div>"
      ],
      "text/plain": [
       "Empty DataFrame\n",
       "Columns: [Book length (mins) avg, book length (mins) overall, price_avg, price_overall, review, review 10/10, completion, mins listened, support requests, last visited minus purchase date]\n",
       "Index: []"
      ]
     },
     "execution_count": 7,
     "metadata": {},
     "output_type": "execute_result"
    }
   ],
   "source": [
    "## showing corresponding headings for NP array\n",
    "data.iloc[0:0,1:-1]"
   ]
  },
  {
   "cell_type": "code",
   "execution_count": 8,
   "metadata": {},
   "outputs": [
    {
     "data": {
      "text/html": [
       "<div>\n",
       "<style scoped>\n",
       "    .dataframe tbody tr th:only-of-type {\n",
       "        vertical-align: middle;\n",
       "    }\n",
       "\n",
       "    .dataframe tbody tr th {\n",
       "        vertical-align: top;\n",
       "    }\n",
       "\n",
       "    .dataframe thead th {\n",
       "        text-align: right;\n",
       "    }\n",
       "</style>\n",
       "<table border=\"1\" class=\"dataframe\">\n",
       "  <thead>\n",
       "    <tr style=\"text-align: right;\">\n",
       "      <th></th>\n",
       "      <th>0</th>\n",
       "      <th>1</th>\n",
       "      <th>2</th>\n",
       "      <th>3</th>\n",
       "      <th>4</th>\n",
       "      <th>5</th>\n",
       "      <th>6</th>\n",
       "      <th>7</th>\n",
       "      <th>8</th>\n",
       "      <th>9</th>\n",
       "    </tr>\n",
       "  </thead>\n",
       "  <tbody>\n",
       "    <tr>\n",
       "      <th>0</th>\n",
       "      <td>1.189565</td>\n",
       "      <td>0.363988</td>\n",
       "      <td>0.677289</td>\n",
       "      <td>0.265952</td>\n",
       "      <td>-0.448772</td>\n",
       "      <td>-0.011256</td>\n",
       "      <td>-0.374752</td>\n",
       "      <td>-0.863506</td>\n",
       "      <td>-0.205366</td>\n",
       "      <td>-0.772409</td>\n",
       "    </tr>\n",
       "    <tr>\n",
       "      <th>1</th>\n",
       "      <td>-0.330228</td>\n",
       "      <td>1.108438</td>\n",
       "      <td>-0.088414</td>\n",
       "      <td>0.771269</td>\n",
       "      <td>2.228303</td>\n",
       "      <td>-3.493669</td>\n",
       "      <td>-0.374752</td>\n",
       "      <td>-0.863506</td>\n",
       "      <td>-0.205366</td>\n",
       "      <td>1.164998</td>\n",
       "    </tr>\n",
       "    <tr>\n",
       "      <th>2</th>\n",
       "      <td>-2.501360</td>\n",
       "      <td>-1.745287</td>\n",
       "      <td>0.677289</td>\n",
       "      <td>0.265952</td>\n",
       "      <td>2.228303</td>\n",
       "      <td>0.118793</td>\n",
       "      <td>-0.374752</td>\n",
       "      <td>-0.863506</td>\n",
       "      <td>2.231791</td>\n",
       "      <td>2.783052</td>\n",
       "    </tr>\n",
       "    <tr>\n",
       "      <th>3</th>\n",
       "      <td>0.103999</td>\n",
       "      <td>-0.256387</td>\n",
       "      <td>1.820326</td>\n",
       "      <td>1.083935</td>\n",
       "      <td>-0.448772</td>\n",
       "      <td>0.118793</td>\n",
       "      <td>-0.374752</td>\n",
       "      <td>-0.863506</td>\n",
       "      <td>-0.205366</td>\n",
       "      <td>1.175643</td>\n",
       "    </tr>\n",
       "    <tr>\n",
       "      <th>4</th>\n",
       "      <td>-2.284247</td>\n",
       "      <td>-0.628612</td>\n",
       "      <td>0.010885</td>\n",
       "      <td>2.034564</td>\n",
       "      <td>2.228303</td>\n",
       "      <td>0.118793</td>\n",
       "      <td>-0.374752</td>\n",
       "      <td>-0.863506</td>\n",
       "      <td>-0.205366</td>\n",
       "      <td>-0.772409</td>\n",
       "    </tr>\n",
       "  </tbody>\n",
       "</table>\n",
       "</div>"
      ],
      "text/plain": [
       "          0         1         2         3         4         5         6  \\\n",
       "0  1.189565  0.363988  0.677289  0.265952 -0.448772 -0.011256 -0.374752   \n",
       "1 -0.330228  1.108438 -0.088414  0.771269  2.228303 -3.493669 -0.374752   \n",
       "2 -2.501360 -1.745287  0.677289  0.265952  2.228303  0.118793 -0.374752   \n",
       "3  0.103999 -0.256387  1.820326  1.083935 -0.448772  0.118793 -0.374752   \n",
       "4 -2.284247 -0.628612  0.010885  2.034564  2.228303  0.118793 -0.374752   \n",
       "\n",
       "          7         8         9  \n",
       "0 -0.863506 -0.205366 -0.772409  \n",
       "1 -0.863506 -0.205366  1.164998  \n",
       "2 -0.863506  2.231791  2.783052  \n",
       "3 -0.863506 -0.205366  1.175643  \n",
       "4 -0.863506 -0.205366 -0.772409  "
      ]
     },
     "execution_count": 8,
     "metadata": {},
     "output_type": "execute_result"
    }
   ],
   "source": [
    "pd.DataFrame(scaled_inputs).head()"
   ]
  },
  {
   "cell_type": "code",
   "execution_count": 9,
   "metadata": {},
   "outputs": [
    {
     "data": {
      "text/plain": [
       "4474"
      ]
     },
     "execution_count": 9,
     "metadata": {},
     "output_type": "execute_result"
    }
   ],
   "source": [
    "scaled_inputs.shape[0]"
   ]
  },
  {
   "cell_type": "markdown",
   "metadata": {},
   "source": [
    "### Shuffle the data"
   ]
  },
  {
   "cell_type": "code",
   "execution_count": 10,
   "metadata": {},
   "outputs": [],
   "source": [
    "# Shuffle the indices of the data, so the data is not arranged in any way when we feed it.\n",
    "shuffled_indices = np.arange(scaled_inputs.shape[0])\n",
    "np.random.shuffle(shuffled_indices)\n",
    "\n",
    "shuffled_inputs = scaled_inputs[shuffled_indices]\n",
    "shuffled_targets = targets_equal_priors[shuffled_indices]"
   ]
  },
  {
   "cell_type": "markdown",
   "metadata": {},
   "source": [
    "### Split the dataset into train, validation, and test"
   ]
  },
  {
   "cell_type": "code",
   "execution_count": 11,
   "metadata": {},
   "outputs": [
    {
     "name": "stdout",
     "output_type": "stream",
     "text": [
      "1774.0 3579 0.4956691813355686\n",
      "223.0 447 0.4988814317673378\n",
      "240.0 448 0.5357142857142857\n"
     ]
    }
   ],
   "source": [
    "samples_count = shuffled_inputs.shape[0]\n",
    "\n",
    "# 80-10-10 distribution of training, validation, and test.\n",
    "# integers.\n",
    "train_samples_count = int(0.8 * samples_count)\n",
    "validation_samples_count = int(0.1 * samples_count)\n",
    "\n",
    "# The 'test' dataset contains all remaining data.\n",
    "test_samples_count = samples_count - train_samples_count - validation_samples_count\n",
    "\n",
    "train_inputs = shuffled_inputs[:train_samples_count]\n",
    "train_targets = shuffled_targets[:train_samples_count]\n",
    "\n",
    "validation_inputs = shuffled_inputs[train_samples_count:train_samples_count+validation_samples_count]\n",
    "validation_targets = shuffled_targets[train_samples_count:train_samples_count+validation_samples_count]\n",
    "\n",
    "test_inputs = shuffled_inputs[train_samples_count+validation_samples_count:]\n",
    "test_targets = shuffled_targets[train_samples_count+validation_samples_count:]\n",
    "\n",
    "#check the balance of targets - % of 1 values\n",
    "print(np.sum(train_targets), train_samples_count, np.sum(train_targets) / train_samples_count)\n",
    "print(np.sum(validation_targets), validation_samples_count, np.sum(validation_targets) / validation_samples_count)\n",
    "print(np.sum(test_targets), test_samples_count, np.sum(test_targets) / test_samples_count)"
   ]
  },
  {
   "cell_type": "markdown",
   "metadata": {},
   "source": [
    "### Save the three datasets in *.npz"
   ]
  },
  {
   "cell_type": "code",
   "execution_count": 12,
   "metadata": {},
   "outputs": [],
   "source": [
    "np.savez('Audiobooks_data_train', inputs=train_inputs, targets=train_targets)\n",
    "np.savez('Audiobooks_data_validation', inputs=validation_inputs, targets=validation_targets)\n",
    "np.savez('Audiobooks_data_test', inputs=test_inputs, targets=test_targets)"
   ]
  },
  {
   "cell_type": "code",
   "execution_count": 13,
   "metadata": {},
   "outputs": [],
   "source": [
    "#npz used as a temporary variable at each step\n",
    "npz = np.load('Audiobooks_data_train.npz')\n",
    "\n",
    "# to ensure that they are all floats, let's also take care of that\n",
    "train_inputs = npz['inputs'].astype(np.float)\n",
    "# targets must be int because of sparse_categorical_crossentropy\n",
    "train_targets = npz['targets'].astype(np.int)\n",
    "\n",
    "npz = np.load('Audiobooks_data_validation.npz')\n",
    "\n",
    "validation_inputs, validation_targets = npz['inputs'].astype(np.float), npz['targets'].astype(np.int)\n",
    "\n",
    "npz = np.load('Audiobooks_data_test.npz')\n",
    "# we create test targets\n",
    "test_inputs, test_targets = npz['inputs'].astype(np.float), npz['targets'].astype(np.int)"
   ]
  },
  {
   "cell_type": "markdown",
   "metadata": {},
   "source": [
    "### Build the model"
   ]
  },
  {
   "cell_type": "code",
   "execution_count": 14,
   "metadata": {},
   "outputs": [
    {
     "name": "stdout",
     "output_type": "stream",
     "text": [
      "Train on 3579 samples, validate on 447 samples\n",
      "Epoch 1/100\n",
      "WARNING:tensorflow:Entity <function Function._initialize_uninitialized_variables.<locals>.initialize_variables at 0x000002ACC37A4048> could not be transformed and will be executed as-is. Please report this to the AutoGraph team. When filing the bug, set the verbosity to 10 (on Linux, `export AUTOGRAPH_VERBOSITY=10`) and attach the full output. Cause: module 'gast' has no attribute 'Num'\n",
      "WARNING: Entity <function Function._initialize_uninitialized_variables.<locals>.initialize_variables at 0x000002ACC37A4048> could not be transformed and will be executed as-is. Please report this to the AutoGraph team. When filing the bug, set the verbosity to 10 (on Linux, `export AUTOGRAPH_VERBOSITY=10`) and attach the full output. Cause: module 'gast' has no attribute 'Num'\n",
      "3579/3579 - 1s - loss: 0.5054 - accuracy: 0.7972 - val_loss: 0.3610 - val_accuracy: 0.8702\n",
      "Epoch 2/100\n",
      "3579/3579 - 0s - loss: 0.3343 - accuracy: 0.8748 - val_loss: 0.3031 - val_accuracy: 0.8971\n",
      "Epoch 3/100\n",
      "3579/3579 - 0s - loss: 0.3009 - accuracy: 0.8905 - val_loss: 0.2833 - val_accuracy: 0.9016\n",
      "Epoch 4/100\n",
      "3579/3579 - 0s - loss: 0.2835 - accuracy: 0.8961 - val_loss: 0.2744 - val_accuracy: 0.9128\n",
      "Epoch 5/100\n",
      "3579/3579 - 0s - loss: 0.2722 - accuracy: 0.8994 - val_loss: 0.2658 - val_accuracy: 0.9105\n",
      "Epoch 6/100\n",
      "3579/3579 - 0s - loss: 0.2638 - accuracy: 0.8994 - val_loss: 0.2616 - val_accuracy: 0.9060\n",
      "Epoch 7/100\n",
      "3579/3579 - 0s - loss: 0.2564 - accuracy: 0.9005 - val_loss: 0.2632 - val_accuracy: 0.9038\n",
      "Epoch 8/100\n",
      "3579/3579 - 0s - loss: 0.2535 - accuracy: 0.9056 - val_loss: 0.2619 - val_accuracy: 0.9128\n",
      "Epoch 9/100\n",
      "3579/3579 - 0s - loss: 0.2482 - accuracy: 0.9033 - val_loss: 0.2587 - val_accuracy: 0.9060\n",
      "Epoch 10/100\n",
      "3579/3579 - 0s - loss: 0.2469 - accuracy: 0.9061 - val_loss: 0.2592 - val_accuracy: 0.9060\n",
      "Epoch 11/100\n",
      "3579/3579 - 0s - loss: 0.2406 - accuracy: 0.9081 - val_loss: 0.2549 - val_accuracy: 0.9128\n",
      "Epoch 12/100\n",
      "3579/3579 - 0s - loss: 0.2371 - accuracy: 0.9111 - val_loss: 0.2580 - val_accuracy: 0.9083\n",
      "Epoch 13/100\n",
      "3579/3579 - 0s - loss: 0.2415 - accuracy: 0.9064 - val_loss: 0.2566 - val_accuracy: 0.9060\n",
      "Epoch 14/100\n",
      "3579/3579 - 0s - loss: 0.2390 - accuracy: 0.9100 - val_loss: 0.2484 - val_accuracy: 0.9150\n",
      "Epoch 15/100\n",
      "3579/3579 - 0s - loss: 0.2302 - accuracy: 0.9120 - val_loss: 0.2528 - val_accuracy: 0.9128\n",
      "Epoch 16/100\n",
      "3579/3579 - 0s - loss: 0.2293 - accuracy: 0.9128 - val_loss: 0.2606 - val_accuracy: 0.9150\n",
      "Epoch 17/100\n",
      "3579/3579 - 0s - loss: 0.2311 - accuracy: 0.9123 - val_loss: 0.2547 - val_accuracy: 0.9105\n"
     ]
    },
    {
     "data": {
      "text/plain": [
       "<tensorflow.python.keras.callbacks.History at 0x2acc377e108>"
      ]
     },
     "execution_count": 14,
     "metadata": {},
     "output_type": "execute_result"
    }
   ],
   "source": [
    "input_size = 10\n",
    "output_size = 2\n",
    "\n",
    "#DNN model\n",
    "model = tf.keras.Sequential([\n",
    "    tf.keras.layers.Dense(50, activation='relu'), \n",
    "    tf.keras.layers.Dense(50, activation='relu'), \n",
    "    tf.keras.layers.Dense(50, activation='relu'), \n",
    "    tf.keras.layers.Dense(output_size, activation='softmax') \n",
    "])\n",
    "\n",
    "### Choose the optimizer and the loss function\n",
    "\n",
    "model.compile(optimizer='adam', loss='sparse_categorical_crossentropy', metrics=['accuracy'])\n",
    "\n",
    "batch_size = 100\n",
    "\n",
    "max_epochs = 100\n",
    "\n",
    "# early stopping mechanism\n",
    "# patience used, to be a bit tolerant against random validation loss increases\n",
    "early_stopping = tf.keras.callbacks.EarlyStopping(patience=3)\n",
    "\n",
    "model.fit(train_inputs, \n",
    "          train_targets, \n",
    "          batch_size=batch_size, \n",
    "          epochs=max_epochs, \n",
    "          # callbacks are functions called by a task when a task is completed\n",
    "          callbacks=[early_stopping], \n",
    "          validation_data=(validation_inputs, validation_targets), \n",
    "          verbose = 2 \n",
    "          )  "
   ]
  },
  {
   "cell_type": "markdown",
   "metadata": {},
   "source": [
    "### Test accuracy"
   ]
  },
  {
   "cell_type": "code",
   "execution_count": 15,
   "metadata": {
    "scrolled": true
   },
   "outputs": [
    {
     "name": "stdout",
     "output_type": "stream",
     "text": [
      "448/1 - 0s - loss: 0.2320 - accuracy: 0.9196\n"
     ]
    }
   ],
   "source": [
    "test_loss, test_accuracy = model.evaluate(test_inputs, test_targets, verbose=2)"
   ]
  },
  {
   "cell_type": "code",
   "execution_count": 16,
   "metadata": {},
   "outputs": [],
   "source": [
    "new_proba = model.predict_proba(test_inputs)[:,1]"
   ]
  },
  {
   "cell_type": "code",
   "execution_count": 17,
   "metadata": {},
   "outputs": [],
   "source": [
    "pd.DataFrame(new_proba)\n",
    "proba = new_proba.round()"
   ]
  },
  {
   "cell_type": "code",
   "execution_count": 18,
   "metadata": {},
   "outputs": [
    {
     "data": {
      "text/plain": [
       "448"
      ]
     },
     "execution_count": 18,
     "metadata": {},
     "output_type": "execute_result"
    }
   ],
   "source": [
    "len(proba)"
   ]
  },
  {
   "cell_type": "code",
   "execution_count": 19,
   "metadata": {},
   "outputs": [
    {
     "data": {
      "text/plain": [
       "448"
      ]
     },
     "execution_count": 19,
     "metadata": {},
     "output_type": "execute_result"
    }
   ],
   "source": [
    "len(test_targets)"
   ]
  },
  {
   "cell_type": "code",
   "execution_count": 20,
   "metadata": {},
   "outputs": [],
   "source": [
    "import seaborn as sn\n",
    "import matplotlib.pyplot as plt\n",
    "from sklearn.metrics import plot_confusion_matrix"
   ]
  },
  {
   "cell_type": "code",
   "execution_count": 21,
   "metadata": {},
   "outputs": [
    {
     "data": {
      "text/plain": [
       "array([[184,  12],\n",
       "       [ 24, 228]], dtype=int64)"
      ]
     },
     "execution_count": 21,
     "metadata": {},
     "output_type": "execute_result"
    }
   ],
   "source": [
    "## simple confusion matrix\n",
    "sklearn.metrics.confusion_matrix(proba, test_targets)"
   ]
  },
  {
   "cell_type": "code",
   "execution_count": 22,
   "metadata": {
    "scrolled": false
   },
   "outputs": [
    {
     "data": {
      "image/png": "[encoded data removed]",
      "text/plain": [
       "<Figure size 432x288 with 2 Axes>"
      ]
     },
     "metadata": {
      "needs_background": "light"
     },
     "output_type": "display_data"
    }
   ],
   "source": [
    "## confusion matrix using seaborn heatmap\n",
    "data = {'y_Actual': test_targets,\n",
    "       'y_Predicted': proba\n",
    "       }\n",
    "\n",
    "df = pd.DataFrame(data, columns=['y_Actual','y_Predicted'])\n",
    "confusion_matrix = pd.crosstab(df['y_Actual'], df['y_Predicted'], rownames=['Actual'], colnames=['Predicted'])\n",
    "\n",
    "sn.heatmap(confusion_matrix, annot=True,cmap='Blues', fmt='g')\n",
    "\n",
    "plt.show()"
   ]
  },
  {
   "cell_type": "code",
   "execution_count": null,
   "metadata": {},
   "outputs": [],
   "source": []
  }
 ],
 "metadata": {
  "kernelspec": {
   "display_name": "Python [conda env:py3-TF2.0]",
   "language": "python",
   "name": "conda-env-py3-TF2.0-py"
  },
  "language_info": {
   "codemirror_mode": {
    "name": "ipython",
    "version": 3
   },
   "file_extension": ".py",
   "mimetype": "text/x-python",
   "name": "python",
   "nbconvert_exporter": "python",
   "pygments_lexer": "ipython3",
   "version": "3.7.4"
  }
 },
 "nbformat": 4,
 "nbformat_minor": 2
}
